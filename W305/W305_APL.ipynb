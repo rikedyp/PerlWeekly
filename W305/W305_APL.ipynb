{
 "cells": [
  {
   "cell_type": "markdown",
   "id": "84744954-b16a-4923-81d4-07be002b5f09",
   "metadata": {},
   "source": [
    "# Perl Weekly Challenge 305\n",
    "These are solutions to [Perl Weekly Challenge 305](https://theweeklychallenge.org/blog/perl-weekly-challenge-305/) in [Dyalog APL](https://www.dyalog.com/)."
   ]
  },
  {
   "cell_type": "markdown",
   "id": "2829f2d3-9515-4b16-ace4-682f6aa1f044",
   "metadata": {},
   "source": [
    "## Task 1: Binary Prefix\n",
    "Take a Boolean vector as input and return a Boolean vector where a 1 indicates that the partial binary number up to that element is a prime number.\n",
    "\n",
    "For example, `BinaryPrefix 1 0 1` returns `0 1 1` because:\n",
    "- $1$ is not prime\n",
    "- $2=b_2(1 0)$ is prime\n",
    "- $5=b_2(1 0 1)$ is prime"
   ]
  },
  {
   "cell_type": "markdown",
   "id": "f2d288c4-392a-49db-8028-9779676bb709",
   "metadata": {},
   "source": [
    "### Creating prefixes\n",
    "There are several valid approaches. The simplest is a **catenate-scan** `,\\⍵`."
   ]
  },
  {
   "cell_type": "code",
   "execution_count": 5,
   "id": "e23962d8-3008-4cab-9f58-ae94e726515e",
   "metadata": {},
   "outputs": [
    {
     "data": {
      "text/html": [
       "<pre class=\"language-APL\">Was ON\n",
       "</pre>"
      ]
     },
     "execution_count": 5,
     "metadata": {},
     "output_type": "execute_result"
    },
    {
     "data": {
      "text/html": [
       "<pre class=\"language-APL\">┌─┬───┬─────┬───────┬─────────┬───────────┬─────────────┐\n",
       "│1│1 0│1 0 1│1 0 1 1│1 0 1 1 0│1 0 1 1 0 1│1 0 1 1 0 1 1│\n",
       "└─┴───┴─────┴───────┴─────────┴───────────┴─────────────┘\n",
       "</pre>"
      ]
     },
     "execution_count": 5,
     "metadata": {},
     "output_type": "execute_result"
    }
   ],
   "source": [
    "]box on\n",
    ",\\1 0 1 1 0 1 1"
   ]
  },
  {
   "cell_type": "markdown",
   "id": "d99ebccb-5a07-46a7-a887-bd4ef3d22a01",
   "metadata": {},
   "source": [
    "We can then convert each number with the base conversion primitive."
   ]
  },
  {
   "cell_type": "code",
   "execution_count": 29,
   "id": "6345a2a6-6168-485a-b0d6-b71bd3b35444",
   "metadata": {},
   "outputs": [
    {
     "data": {
      "text/html": [
       "<pre class=\"language-APL\">1 0 1  1  0  1  1\n",
       "1 2 5 11 22 45 91\n",
       "</pre>"
      ]
     },
     "execution_count": 29,
     "metadata": {},
     "output_type": "execute_result"
    }
   ],
   "source": [
    "b←1 0 1 1 0 1 1\n",
    "↑(b)(2⊥¨,\\b)"
   ]
  },
  {
   "cell_type": "markdown",
   "id": "43c244c5-7a53-4419-88ca-9cc03e1f6ace",
   "metadata": {},
   "source": [
    "It can be more efficient to build a flat array that works directly with primitive functions in APL, rather than looping using the each `F¨` operator. In the following expression, we build a flat Boolean matrix of prefixes using [the rank operator](https://course.dyalog.com/cells-and-axes/#the-rank-operator). The base conversion primitive function can then work on the entire array at once rather than having to loop over individual prefixes. This is significantly faster than `2⊥¨,\\b`."
   ]
  },
  {
   "cell_type": "code",
   "execution_count": 32,
   "id": "a10a5ebb-e7b6-437a-8927-6fd555118141",
   "metadata": {
    "scrolled": true
   },
   "outputs": [
    {
     "data": {
      "text/html": [
       "<pre class=\"language-APL\">1 2 5 11 22 45 91\n",
       "</pre>"
      ]
     },
     "execution_count": 32,
     "metadata": {},
     "output_type": "execute_result"
    }
   ],
   "source": [
    "2⊥i⌽(i←⍳≢b)(↑⍤0 1)b"
   ]
  },
  {
   "cell_type": "markdown",
   "id": "72d3032f-7bbd-4d9f-8e89-f5e393c44d3a",
   "metadata": {},
   "source": [
    "### Checking Primes\n",
    "A direct approach is to use the \"unique divisors\" idiom."
   ]
  },
  {
   "cell_type": "code",
   "execution_count": 33,
   "id": "43d605b8-bd1e-4589-8bfc-bae3d7e5278b",
   "metadata": {},
   "outputs": [
    {
     "data": {
      "text/html": [
       "<pre class=\"language-APL\">┌─┬───┬───┬────┬─────────┬─────────────┬─────────┐\n",
       "│1│1 2│1 5│1 11│1 2 11 22│1 3 5 9 15 45│1 7 13 91│\n",
       "└─┴───┴───┴────┴─────────┴─────────────┴─────────┘\n",
       "</pre>"
      ]
     },
     "execution_count": 33,
     "metadata": {},
     "output_type": "execute_result"
    }
   ],
   "source": [
    "(∪⊢∨⍳)¨1 2 5 11 22 45 91"
   ]
  },
  {
   "cell_type": "markdown",
   "id": "b878cdaa-94e0-422c-b740-266c301634a3",
   "metadata": {},
   "source": [
    "We can then count the unique divisors and check which have exactly two, which is the definition of being a prime number."
   ]
  },
  {
   "cell_type": "code",
   "execution_count": 35,
   "id": "a035c3f8-7b4b-4dc8-bfdc-791774daa4b0",
   "metadata": {
    "scrolled": true
   },
   "outputs": [
    {
     "data": {
      "text/html": [
       "<pre class=\"language-APL\">0 1 1 1 0 0 0\n",
       "</pre>"
      ]
     },
     "execution_count": 35,
     "metadata": {},
     "output_type": "execute_result"
    }
   ],
   "source": [
    "2=(≢∘∪⊢∨⍳)¨1 2 5 11 22 45 91"
   ]
  },
  {
   "cell_type": "markdown",
   "id": "24f817ed-67ea-4f48-aa64-f206228ba8f9",
   "metadata": {},
   "source": [
    "The `(∪⊢∨⍳)` train is cute and somewhat says exactly what we want: \"unique divisors of ⍵\". However, it is quite inefficient to find all divisors between every number and the list of integers up to that number.\n",
    "\n",
    "Instead, let's find where all integers up to the largest in our list are evenly divided with the modulo function."
   ]
  },
  {
   "cell_type": "code",
   "execution_count": 46,
   "id": "2e91cf5a-a8fd-4850-acfb-a5eb0f20ac7b",
   "metadata": {},
   "outputs": [
    {
     "data": {
      "text/html": [
       "<pre class=\"language-APL\">0 1 1 1 0 0 0\n",
       "</pre>"
      ]
     },
     "execution_count": 46,
     "metadata": {},
     "output_type": "execute_result"
    }
   ],
   "source": [
    "{2=+⌿0=(⍳⌈/⍵)∘.|⍵}1 2 5 11 22 45 91"
   ]
  },
  {
   "cell_type": "markdown",
   "id": "b453f539-f181-4ae7-a238-2bcb8ca4c159",
   "metadata": {},
   "source": [
    "A yet more efficient prime number checker is found in the `pco` function in the [dfns workspace](https://dfns.dyalog.com), although it is a simple lookup for small primes."
   ]
  },
  {
   "cell_type": "code",
   "execution_count": 36,
   "id": "c8da54f6-e8f7-409c-a823-01aab97453f0",
   "metadata": {},
   "outputs": [
    {
     "data": {
      "text/html": [
       "<pre class=\"language-APL\">0 1 1 1 0 0 0\n",
       "</pre>"
      ]
     },
     "execution_count": 36,
     "metadata": {},
     "output_type": "execute_result"
    }
   ],
   "source": [
    "'pco'⎕CY'dfns'\n",
    "1 pco 1 2 5 11 22 45 91"
   ]
  },
  {
   "cell_type": "markdown",
   "id": "45f2d65f-06a4-47b0-b41f-634f8d33be6d",
   "metadata": {},
   "source": [
    "Let's put this all together and try the test cases from the website."
   ]
  },
  {
   "cell_type": "code",
   "execution_count": 47,
   "id": "44fff76f-e7c2-4bbf-b3fc-57ec08e0b2a5",
   "metadata": {},
   "outputs": [
    {
     "data": {
      "text/html": [
       "<pre class=\"language-APL\">0 1 1\n",
       "</pre>"
      ]
     },
     "execution_count": 47,
     "metadata": {},
     "output_type": "execute_result"
    },
    {
     "data": {
      "text/html": [
       "<pre class=\"language-APL\">0 1 0\n",
       "</pre>"
      ]
     },
     "execution_count": 47,
     "metadata": {},
     "output_type": "execute_result"
    },
    {
     "data": {
      "text/html": [
       "<pre class=\"language-APL\">0 1 1 0 0 1 0 0 0 0 0 0 0 0 0 0 0 0 0 1\n",
       "</pre>"
      ]
     },
     "execution_count": 47,
     "metadata": {},
     "output_type": "execute_result"
    }
   ],
   "source": [
    "BinaryPrefix ← {2=+⌿0=(⍳⌈/n)∘.|n←2⊥i⌽(i←⍳≢⍵)(↑⍤0 1)⍵}\n",
    "BinaryPrefix 1 0 1\n",
    "BinaryPrefix 1 1 0\n",
    "BinaryPrefix 1 1 1 1 0 1 0 0 0 0 1 0 1 0 0 1 0 0 0 1"
   ]
  },
  {
   "cell_type": "markdown",
   "id": "d9e4e6c1-7f4a-4615-bd72-abbd90657d3c",
   "metadata": {},
   "source": [
    "## Task 2: Alien Dictionary\n",
    "You are given a list of words and alien dictionary character order.\n",
    "\n",
    "Write a script to sort lexicographically the given list of words based on the alien dictionary characters."
   ]
  },
  {
   "cell_type": "markdown",
   "id": "4451f901-1fe2-45de-b7ee-c92b6706f005",
   "metadata": {},
   "source": [
    "First, let's get our inputs. The Raku language appears to have the `qw` function that creates a list of characters. In APL, that is the default format for character data, so we'll just paste the input from the website and remove the spaces."
   ]
  },
  {
   "cell_type": "code",
   "execution_count": 49,
   "id": "4f488e2d-d3ef-4d5e-a9bf-69c6e56ae95d",
   "metadata": {},
   "outputs": [],
   "source": [
    "alien ← 'h l a b y d e f g i r k m n o p q j s t u v w x c z'~' '"
   ]
  },
  {
   "cell_type": "markdown",
   "id": "e4d46804-3e31-494a-8e88-8fe1bd205678",
   "metadata": {},
   "source": [
    "For convenience, we can also take the raw text for the list of strings, swap round with square parentheses, and process it with `⎕JSON`."
   ]
  },
  {
   "cell_type": "code",
   "execution_count": 62,
   "id": "edcc0d48-ed15-4d22-95c7-bd0a84150e6c",
   "metadata": {},
   "outputs": [],
   "source": [
    "words ← 0⎕JSON'[\"perl\", \"python\", \"raku\"]'"
   ]
  },
  {
   "cell_type": "markdown",
   "id": "906c60f6-030b-48f9-8736-2a24a8ea43bc",
   "metadata": {},
   "source": [
    "As for our solution, this is simply one of those unusual times when you actually need dyadic grade.\n",
    "\n",
    "Dyadic grade takes a simple character vector dictionary left argument `⍺` and a simple character array right argument `⍵` and lexicographically sorts major cells in `⍵` according to the order of elements in `⍺`, leaving those not found in `⍺` in their original order.\n",
    "\n",
    "The only thing to note is that dyadic grade only works on simple character data, so we must mix our input list of words to make a simple character matrix. However, we can use the grade on the original input list of strings."
   ]
  },
  {
   "cell_type": "code",
   "execution_count": 63,
   "id": "c846acbe-8450-420f-be85-8c2bff2ff288",
   "metadata": {},
   "outputs": [
    {
     "data": {
      "text/html": [
       "<pre class=\"language-APL\">┌────┬──────┬────┐\n",
       "│raku│python│perl│\n",
       "└────┴──────┴────┘\n",
       "</pre>"
      ]
     },
     "execution_count": 63,
     "metadata": {},
     "output_type": "execute_result"
    }
   ],
   "source": [
    "alien {⍵[⍺⍋↑⍵]} words"
   ]
  },
  {
   "cell_type": "markdown",
   "id": "7db8a53f-4c1b-40d2-82bb-0c7d2b918133",
   "metadata": {},
   "source": [
    "And finally, the second example inputs."
   ]
  },
  {
   "cell_type": "code",
   "execution_count": 66,
   "id": "6404794f-3b51-4ff1-b62b-3d6e9e669b99",
   "metadata": {},
   "outputs": [
    {
     "data": {
      "text/html": [
       "<pre class=\"language-APL\">┌─────────┬───┬──────┐\n",
       "│challenge│the│weekly│\n",
       "└─────────┴───┴──────┘\n",
       "</pre>"
      ]
     },
     "execution_count": 66,
     "metadata": {},
     "output_type": "execute_result"
    }
   ],
   "source": [
    "alien ← 'c o r l d a b t e f g h i j k m n p q s w u v x y z'~' '\n",
    "words ← 0⎕JSON'[\"the\", \"weekly\", \"challenge\"]'\n",
    "alien {⍵[⍺⍋↑⍵]} words"
   ]
  }
 ],
 "metadata": {
  "kernelspec": {
   "display_name": "Dyalog APL",
   "language": "apl",
   "name": "dyalog_apl"
  },
  "language_info": {
   "file_extension": ".apl",
   "mimetype": "text/apl",
   "name": "APL"
  }
 },
 "nbformat": 4,
 "nbformat_minor": 5
}
